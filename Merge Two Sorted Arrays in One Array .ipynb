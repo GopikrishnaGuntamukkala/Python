{
 "cells": [
  {
   "cell_type": "markdown",
   "id": "8d620fae",
   "metadata": {},
   "source": [
    "# MergeTwoSortedArrays in One Array "
   ]
  },
  {
   "cell_type": "code",
   "execution_count": 5,
   "id": "a3bfdb00",
   "metadata": {},
   "outputs": [
    {
     "name": "stdout",
     "output_type": "stream",
     "text": [
      "[1, 1, 2, 3, 4, 5, 6, 7, 8]\n"
     ]
    }
   ],
   "source": [
    "arr1=[7,3,5,1,1]\n",
    "arr2=[8,6,4,2]\n",
    "arr=[]\n",
    "arr1.sort()\n",
    "arr2.sort()\n",
    "a=len(arr1)\n",
    "b=len(arr2)\n",
    "i=0\n",
    "j=0\n",
    "while (i<a) and (j<b):\n",
    "    if arr1[i]<arr2[j]:\n",
    "        arr.append(arr1[i])\n",
    "        i=i+1\n",
    "    else:\n",
    "        arr.append(arr2[j])\n",
    "        j=j+1\n",
    "while i<a:\n",
    "    arr.append(arr1[i])\n",
    "    i=i+1\n",
    "while j<b:\n",
    "    arr.append(arr2[j])\n",
    "    j=j+1\n",
    "print(arr)\n",
    "        \n"
   ]
  },
  {
   "cell_type": "code",
   "execution_count": 9,
   "id": "0f405244",
   "metadata": {},
   "outputs": [
    {
     "name": "stdout",
     "output_type": "stream",
     "text": [
      "enter a string : gopi krishna@\n"
     ]
    },
    {
     "data": {
      "text/plain": [
       "(4, 7, 0, 2)"
      ]
     },
     "execution_count": 9,
     "metadata": {},
     "output_type": "execute_result"
    }
   ],
   "source": []
  },
  {
   "cell_type": "code",
   "execution_count": null,
   "id": "24324962",
   "metadata": {
    "collapsed": true
   },
   "outputs": [],
   "source": []
  }
 ],
 "metadata": {
  "kernelspec": {
   "display_name": "Python 3 (ipykernel)",
   "language": "python",
   "name": "python3"
  },
  "language_info": {
   "codemirror_mode": {
    "name": "ipython",
    "version": 3
   },
   "file_extension": ".py",
   "mimetype": "text/x-python",
   "name": "python",
   "nbconvert_exporter": "python",
   "pygments_lexer": "ipython3",
   "version": "3.10.4"
  }
 },
 "nbformat": 4,
 "nbformat_minor": 5
}
